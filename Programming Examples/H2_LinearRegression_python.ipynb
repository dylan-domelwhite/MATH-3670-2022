{
 "cells": [
  {
   "cell_type": "markdown",
   "id": "ff95131c-e6ae-416f-a03a-567c20f7085f",
   "metadata": {},
   "source": [
    "# Linear Regresion Example\n",
    "\n",
    "In this example, we create a training set and find the best linear model that fits it. First, we generate a training set of $N = 1000$ points $\\{(x_n, y_n)\\}_{n=1}^N$ where $x_n$ are independent and uniformly distributed in $[0, 1]$ and $y_n = 2\\|x_n\\|^2 + \\varepsilon_n$ where $\\varepsilon_n$ are uniformly distributed in $[-1, 1]$."
   ]
  },
  {
   "cell_type": "code",
   "execution_count": 1,
   "id": "8967bfcd-af3a-42c6-a883-9614c5497e32",
   "metadata": {},
   "outputs": [],
   "source": [
    "from matplotlib import pyplot as plt\n",
    "import numpy as np\n",
    "\n",
    "N = 1000\n",
    "sigma = 1\n",
    "\n",
    "x_train = np.random.rand(N, 2)\n",
    "eps = 2*(np.random.rand(N) - .5)\n",
    "y_train = 2*x_train[:,0]**2 + 2*x_train[:,1]**2 + eps"
   ]
  },
  {
   "cell_type": "markdown",
   "id": "f7f47f09-6deb-4efe-979b-0f23114748ac",
   "metadata": {},
   "source": [
    "Next, we use the *sklearn* package to find the best linear model for the training data. The output is the vector $\\hat{\\beta}$ to be used in the linear model $f(x) = \\langle x,\\hat{\\beta} \\rangle$. Re-generate the training set and run this code multiple times and observe that $\\hat{\\beta}$ changes (it depends on the training set)."
   ]
  },
  {
   "cell_type": "code",
   "execution_count": 2,
   "id": "77eb1fb0-c3f2-46c2-b460-cee682eb8032",
   "metadata": {},
   "outputs": [
    {
     "name": "stdout",
     "output_type": "stream",
     "text": [
      "beta_hat = [1.39117959 1.42571725]\n"
     ]
    }
   ],
   "source": [
    "from sklearn.linear_model import LinearRegression\n",
    "\n",
    "model = LinearRegression(fit_intercept=False)\n",
    "model.fit(x_train, y_train)\n",
    "beta_hat = model.coef_\n",
    "\n",
    "print(\"beta_hat = {}\".format(beta_hat))"
   ]
  },
  {
   "cell_type": "markdown",
   "id": "6b8eeeed-a9de-48f6-b90c-d34da74c6fb9",
   "metadata": {},
   "source": [
    "We had an explicit formula for $\\hat{\\beta}$ in class, namely $\\hat{\\beta} = (D^T D)^{-1}D^T y$. We compute $\\hat{\\beta}$ using this formula and verify that it matches the sklearn package."
   ]
  },
  {
   "cell_type": "code",
   "execution_count": 3,
   "id": "5b690a2a-37eb-462a-bded-9883b9ffd4fa",
   "metadata": {},
   "outputs": [
    {
     "name": "stdout",
     "output_type": "stream",
     "text": [
      "beta_hat computed using formula = [1.39117959 1.42571725]\n"
     ]
    }
   ],
   "source": [
    "beta_hat_formula = np.matmul(np.matmul(np.linalg.inv(np.matmul(x_train.transpose(), x_train)),x_train.transpose()),y_train)\n",
    "\n",
    "print(\"beta_hat computed using formula = {}\".format(beta_hat_formula))"
   ]
  }
 ],
 "metadata": {
  "kernelspec": {
   "display_name": "Python 3 (ipykernel)",
   "language": "python",
   "name": "python3"
  },
  "language_info": {
   "codemirror_mode": {
    "name": "ipython",
    "version": 3
   },
   "file_extension": ".py",
   "mimetype": "text/x-python",
   "name": "python",
   "nbconvert_exporter": "python",
   "pygments_lexer": "ipython3",
   "version": "3.8.6"
  }
 },
 "nbformat": 4,
 "nbformat_minor": 5
}
